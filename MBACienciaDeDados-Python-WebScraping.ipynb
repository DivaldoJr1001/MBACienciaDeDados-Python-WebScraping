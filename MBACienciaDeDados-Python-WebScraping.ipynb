{
  "cells": [
    {
      "cell_type": "markdown",
      "metadata": {
        "id": "view-in-github",
        "colab_type": "text"
      },
      "source": [
        "<a href=\"https://colab.research.google.com/github/DivaldoJr1001/MBACienciaDeDados-Python-WebScraping/blob/main/MBACienciaDeDados-Python-WebScraping.ipynb\" target=\"_parent\"><img src=\"https://colab.research.google.com/assets/colab-badge.svg\" alt=\"Open In Colab\"/></a>"
      ]
    },
    {
      "cell_type": "markdown",
      "source": [
        "<img src='https://www.unifor.br/o/unifor-theme/images/unifor-logo-horizontal.svg' width=\"250px\">\n",
        "\n",
        "# MBA em Ciência de Dados - Universidade de Fortaleza\n",
        "\n",
        "## Data Harvesting - Projeto de Disciplina\n",
        "\n",
        "### Prof. Ms. Alex Lima\n",
        "\n",
        "#### <b>(Março/2025)</b>\n",
        "\n",
        "-------------------------\n",
        "\n",
        "### <b>Aluno:</b> Divaldo Aderaldo de Oliveira Júnior (2419413)<br>\n",
        "\n",
        "### Scraping de dados e comparação de preços em múltiplos sites com base em uma string de pesquisa."
      ],
      "metadata": {
        "id": "0M-7Tz1jVPrD"
      },
      "id": "0M-7Tz1jVPrD"
    },
    {
      "cell_type": "markdown",
      "source": [
        "# Instalação de Requisitos"
      ],
      "metadata": {
        "id": "VsoDNImtF2oC"
      },
      "id": "VsoDNImtF2oC"
    },
    {
      "cell_type": "code",
      "source": [
        "!apt-get update\n",
        "!apt-get install -y wget unzip\n",
        "!wget -q https://dl.google.com/linux/direct/google-chrome-stable_current_amd64.deb\n",
        "!dpkg -i google-chrome-stable_current_amd64.deb || true\n",
        "!apt-get -f install -y\n",
        "!wget -q https://chromedriver.storage.googleapis.com/$(curl -sS https://chromedriver.storage.googleapis.com/LATEST_RELEASE)/chromedriver_linux64.zip\n",
        "!unzip -o chromedriver_linux64.zip\n",
        "!chmod +x chromedriver\n",
        "!mv chromedriver /usr/local/bin/\n",
        "!pip install -U selenium webdriver-manager"
      ],
      "metadata": {
        "colab": {
          "base_uri": "https://localhost:8080/"
        },
        "id": "2xqqJ9n008kI",
        "outputId": "94506602-a01c-4111-88cb-7683216c5457",
        "collapsed": true
      },
      "id": "2xqqJ9n008kI",
      "execution_count": 18,
      "outputs": [
        {
          "output_type": "stream",
          "name": "stdout",
          "text": [
            "\r0% [Working]\r            \rHit:1 https://cloud.r-project.org/bin/linux/ubuntu jammy-cran40/ InRelease\n",
            "\r            \rHit:2 https://dl.google.com/linux/chrome/deb stable InRelease\n",
            "\r0% [Connecting to archive.ubuntu.com] [Connecting to security.ubuntu.com (91.189.91.81)] [Connected \r                                                                                                    \rHit:3 https://developer.download.nvidia.com/compute/cuda/repos/ubuntu2204/x86_64  InRelease\n",
            "Hit:4 http://security.ubuntu.com/ubuntu jammy-security InRelease\n",
            "Hit:5 http://archive.ubuntu.com/ubuntu jammy InRelease\n",
            "Hit:6 https://r2u.stat.illinois.edu/ubuntu jammy InRelease\n",
            "Hit:7 http://archive.ubuntu.com/ubuntu jammy-updates InRelease\n",
            "Hit:8 http://archive.ubuntu.com/ubuntu jammy-backports InRelease\n",
            "Hit:9 https://ppa.launchpadcontent.net/deadsnakes/ppa/ubuntu jammy InRelease\n",
            "Hit:10 https://ppa.launchpadcontent.net/graphics-drivers/ppa/ubuntu jammy InRelease\n",
            "Hit:11 https://ppa.launchpadcontent.net/ubuntugis/ppa/ubuntu jammy InRelease\n",
            "Reading package lists... Done\n",
            "W: Skipping acquire of configured file 'main/source/Sources' as repository 'https://r2u.stat.illinois.edu/ubuntu jammy InRelease' does not seem to provide it (sources.list entry misspelt?)\n",
            "Reading package lists... Done\n",
            "Building dependency tree... Done\n",
            "Reading state information... Done\n",
            "unzip is already the newest version (6.0-26ubuntu3.2).\n",
            "wget is already the newest version (1.21.2-2ubuntu1.1).\n",
            "0 upgraded, 0 newly installed, 0 to remove and 29 not upgraded.\n",
            "(Reading database ... 125199 files and directories currently installed.)\n",
            "Preparing to unpack google-chrome-stable_current_amd64.deb ...\n",
            "Unpacking google-chrome-stable (134.0.6998.88-1) over (134.0.6998.88-1) ...\n",
            "Setting up google-chrome-stable (134.0.6998.88-1) ...\n",
            "Processing triggers for mailcap (3.70+nmu1ubuntu1) ...\n",
            "Processing triggers for man-db (2.10.2-1) ...\n",
            "Reading package lists... Done\n",
            "Building dependency tree... Done\n",
            "Reading state information... Done\n",
            "0 upgraded, 0 newly installed, 0 to remove and 29 not upgraded.\n",
            "Archive:  chromedriver_linux64.zip\n",
            "  inflating: chromedriver            \n",
            "  inflating: LICENSE.chromedriver    \n",
            "Requirement already satisfied: selenium in /usr/local/lib/python3.11/dist-packages (4.29.0)\n",
            "Requirement already satisfied: webdriver-manager in /usr/local/lib/python3.11/dist-packages (4.0.2)\n",
            "Requirement already satisfied: urllib3<3,>=1.26 in /usr/local/lib/python3.11/dist-packages (from urllib3[socks]<3,>=1.26->selenium) (2.3.0)\n",
            "Requirement already satisfied: trio~=0.17 in /usr/local/lib/python3.11/dist-packages (from selenium) (0.29.0)\n",
            "Requirement already satisfied: trio-websocket~=0.9 in /usr/local/lib/python3.11/dist-packages (from selenium) (0.12.2)\n",
            "Requirement already satisfied: certifi>=2021.10.8 in /usr/local/lib/python3.11/dist-packages (from selenium) (2025.1.31)\n",
            "Requirement already satisfied: typing_extensions~=4.9 in /usr/local/lib/python3.11/dist-packages (from selenium) (4.12.2)\n",
            "Requirement already satisfied: websocket-client~=1.8 in /usr/local/lib/python3.11/dist-packages (from selenium) (1.8.0)\n",
            "Requirement already satisfied: requests in /usr/local/lib/python3.11/dist-packages (from webdriver-manager) (2.32.3)\n",
            "Requirement already satisfied: python-dotenv in /usr/local/lib/python3.11/dist-packages (from webdriver-manager) (1.0.1)\n",
            "Requirement already satisfied: packaging in /usr/local/lib/python3.11/dist-packages (from webdriver-manager) (24.2)\n",
            "Requirement already satisfied: attrs>=23.2.0 in /usr/local/lib/python3.11/dist-packages (from trio~=0.17->selenium) (25.2.0)\n",
            "Requirement already satisfied: sortedcontainers in /usr/local/lib/python3.11/dist-packages (from trio~=0.17->selenium) (2.4.0)\n",
            "Requirement already satisfied: idna in /usr/local/lib/python3.11/dist-packages (from trio~=0.17->selenium) (3.10)\n",
            "Requirement already satisfied: outcome in /usr/local/lib/python3.11/dist-packages (from trio~=0.17->selenium) (1.3.0.post0)\n",
            "Requirement already satisfied: sniffio>=1.3.0 in /usr/local/lib/python3.11/dist-packages (from trio~=0.17->selenium) (1.3.1)\n",
            "Requirement already satisfied: wsproto>=0.14 in /usr/local/lib/python3.11/dist-packages (from trio-websocket~=0.9->selenium) (1.2.0)\n",
            "Requirement already satisfied: pysocks!=1.5.7,<2.0,>=1.5.6 in /usr/local/lib/python3.11/dist-packages (from urllib3[socks]<3,>=1.26->selenium) (1.7.1)\n",
            "Requirement already satisfied: charset-normalizer<4,>=2 in /usr/local/lib/python3.11/dist-packages (from requests->webdriver-manager) (3.4.1)\n",
            "Requirement already satisfied: h11<1,>=0.9.0 in /usr/local/lib/python3.11/dist-packages (from wsproto>=0.14->trio-websocket~=0.9->selenium) (0.14.0)\n"
          ]
        }
      ]
    },
    {
      "cell_type": "markdown",
      "source": [
        "# Configuração Inicial"
      ],
      "metadata": {
        "id": "h0aPNvrjF7AK"
      },
      "id": "h0aPNvrjF7AK"
    },
    {
      "cell_type": "code",
      "source": [
        "from selenium import webdriver\n",
        "from selenium.webdriver.chrome.service import Service\n",
        "from webdriver_manager.chrome import ChromeDriverManager"
      ],
      "metadata": {
        "id": "IkHdThGIF5vO"
      },
      "id": "IkHdThGIF5vO",
      "execution_count": 19,
      "outputs": []
    },
    {
      "cell_type": "code",
      "source": [
        "def get_driver():\n",
        "  options = webdriver.ChromeOptions()\n",
        "  options.add_argument('--headless')\n",
        "  options.add_argument('--no-sandbox')\n",
        "  options.add_argument('--disable-dev-shm-usage')\n",
        "  options.add_argument('--disable-blink-features=AutomationControlled')\n",
        "  options.add_argument(\"--window-size=1920,1080\")\n",
        "  options.add_argument('--lang=en-US,en;q=0.9')\n",
        "  options.add_argument('--referer=https://www.google.com/')\n",
        "\n",
        "  options.add_argument('--disable-gpu')\n",
        "  options.add_argument('--disable-infobars')\n",
        "  options.add_argument('--disable-extensions')\n",
        "  options.add_argument('--disable-logging')\n",
        "  options.add_argument('--disable-notifications')\n",
        "  options.add_argument('--disable-popup-blocking')\n",
        "\n",
        "  options.add_argument('user-agent=Mozilla/5.0 (Windows NT 10.0; Win64; x64) AppleWebKit/537.36 (KHTML, like Gecko) Chrome/122.0.0.0 Safari/537.36')\n",
        "  options.add_argument('--blink-settings=imagesEnabled=false')\n",
        "\n",
        "  service = Service(ChromeDriverManager().install())\n",
        "  driver = webdriver.Chrome(service=service, options=options)\n",
        "\n",
        "  return driver"
      ],
      "metadata": {
        "id": "TsDtAie9p0oc"
      },
      "id": "TsDtAie9p0oc",
      "execution_count": 20,
      "outputs": []
    },
    {
      "cell_type": "markdown",
      "source": [
        "# Escolha de Produto"
      ],
      "metadata": {
        "id": "tAUHXZIEYI3j"
      },
      "id": "tAUHXZIEYI3j"
    },
    {
      "cell_type": "code",
      "source": [
        "produto_a_pesquisar = 'iPhone 15'"
      ],
      "metadata": {
        "id": "XlN-yQ5GBfIp"
      },
      "id": "XlN-yQ5GBfIp",
      "execution_count": 21,
      "outputs": []
    },
    {
      "cell_type": "markdown",
      "source": [
        "# Funções de Scraping"
      ],
      "metadata": {
        "id": "Yiv_GpoDgP1V"
      },
      "id": "Yiv_GpoDgP1V"
    },
    {
      "cell_type": "markdown",
      "source": [
        "## Importações"
      ],
      "metadata": {
        "id": "t7c1t1wOgUI5"
      },
      "id": "t7c1t1wOgUI5"
    },
    {
      "cell_type": "code",
      "source": [
        "from selenium.webdriver.common.by import By\n",
        "from selenium.webdriver.support.ui import WebDriverWait\n",
        "from selenium.webdriver.support import expected_conditions as EC\n",
        "\n",
        "import pandas as pd\n",
        "import numpy as np\n",
        "import time"
      ],
      "metadata": {
        "id": "ShDez_1Sgkca"
      },
      "id": "ShDez_1Sgkca",
      "execution_count": 22,
      "outputs": []
    },
    {
      "cell_type": "markdown",
      "source": [
        "## Filtragem de Outliers"
      ],
      "metadata": {
        "id": "E-90Yve8wb9t"
      },
      "id": "E-90Yve8wb9t"
    },
    {
      "cell_type": "code",
      "source": [
        "def filter_dataframe(df):\n",
        "    if df.empty or 'Preço' not in df.columns:\n",
        "        return df\n",
        "\n",
        "    threshold = np.max(df['Preço']) / 3\n",
        "\n",
        "    df_filtered = df[df['Preço'] >= threshold]\n",
        "    return df_filtered"
      ],
      "metadata": {
        "id": "s_TOBSTmwejE"
      },
      "id": "s_TOBSTmwejE",
      "execution_count": 23,
      "outputs": []
    },
    {
      "cell_type": "markdown",
      "source": [
        "## Scraper Genérico"
      ],
      "metadata": {
        "id": "o0_oVHEBit1x"
      },
      "id": "o0_oVHEBit1x"
    },
    {
      "cell_type": "code",
      "source": [
        "def scraper(\n",
        "    store,\n",
        "    website_link,\n",
        "    query,\n",
        "    spacer,\n",
        "    product_item_class,\n",
        "    product_name_class,\n",
        "    product_price_class,\n",
        "    suppress_errors=False,\n",
        "    show_progress=False,\n",
        "    save_html=False,\n",
        "    show_link=False):\n",
        "  driver = get_driver()\n",
        "\n",
        "  link = website_link.replace(\"[query]\", query.replace(' ', spacer))\n",
        "\n",
        "  if show_link:\n",
        "    print(link)\n",
        "\n",
        "  driver.get(link)\n",
        "\n",
        "  try:\n",
        "    if save_html:\n",
        "      file_name = f\"pagina-{store.replace(' ', '_')}.html\"\n",
        "      with open(file_name, 'w', encoding='utf-8') as f:\n",
        "          f.write(driver.page_source)\n",
        "      print(f'HTML salvo em {file_name}')\n",
        "\n",
        "    if \"captcha\" in driver.page_source.lower():\n",
        "      print(\"Captcha detectado. Interrompendo scraping.\")\n",
        "      driver.quit()\n",
        "      return pd.DataFrame()\n",
        "\n",
        "    WebDriverWait(driver, 20).until(\n",
        "        EC.presence_of_element_located((By.CLASS_NAME, product_item_class))\n",
        "    )\n",
        "  except Exception as e:\n",
        "    print(f\"Erro ao carregar a página de {store}: {e}\")\n",
        "    driver.quit()\n",
        "    return pd.DataFrame()\n",
        "\n",
        "  last_height = driver.execute_script(\"return document.body.scrollHeight\")\n",
        "  while True:\n",
        "      driver.execute_script(\"window.scrollTo(0, document.body.scrollHeight);\")\n",
        "      time.sleep(2)\n",
        "      new_height = driver.execute_script(\"return document.body.scrollHeight\")\n",
        "      if new_height == last_height:\n",
        "          break\n",
        "      last_height = new_height\n",
        "\n",
        "  produtos = []\n",
        "  items = driver.find_elements(By.CLASS_NAME, product_item_class)\n",
        "\n",
        "  for item in items:\n",
        "      try:\n",
        "          nome = item.find_element(By.CLASS_NAME, product_name_class).text\n",
        "\n",
        "          if show_progress:\n",
        "            print(f\"Nome: {nome}\")\n",
        "\n",
        "          price_element = item.find_element(By.CLASS_NAME, product_price_class)\n",
        "\n",
        "          preco = price_element.text.strip()\n",
        "\n",
        "          preco_partes = preco.split('R$')\n",
        "\n",
        "          preco = preco_partes[-1].strip()\n",
        "\n",
        "          preco = preco.split(' ')[0]\n",
        "\n",
        "          preco = preco.replace('.', '').replace(',', '.')\n",
        "\n",
        "          preco = float(preco)\n",
        "\n",
        "          if show_progress:\n",
        "            print(f\"Preço: {preco}\")\n",
        "\n",
        "          produtos.append({'Nome': nome, 'Preço': preco})\n",
        "      except Exception as e:\n",
        "        if not suppress_errors:\n",
        "          print(f\"Erro ao coletar item: {e}\")\n",
        "        continue\n",
        "  df = pd.DataFrame(produtos)\n",
        "  df['Plataforma'] = store\n",
        "  df = filter_dataframe(df)\n",
        "\n",
        "  driver.quit()\n",
        "\n",
        "  return df"
      ],
      "metadata": {
        "id": "ZrMI3Ht5iw3G"
      },
      "id": "ZrMI3Ht5iw3G",
      "execution_count": 24,
      "outputs": []
    },
    {
      "cell_type": "markdown",
      "source": [
        "## Mercado Livre"
      ],
      "metadata": {
        "id": "sGSD-24ugmBq"
      },
      "id": "sGSD-24ugmBq"
    },
    {
      "cell_type": "code",
      "source": [
        "df_mercado_livre = scraper(\n",
        "    \"Mercado Livre\",\n",
        "    \"https://lista.mercadolivre.com.br/[query]\",\n",
        "    produto_a_pesquisar,\n",
        "    \"-\",\n",
        "    \"ui-search-layout__item\",\n",
        "    \"poly-component__title\",\n",
        "    \"andes-money-amount__fraction\"\n",
        ")"
      ],
      "metadata": {
        "id": "izp_pa5Emd4p"
      },
      "id": "izp_pa5Emd4p",
      "execution_count": 25,
      "outputs": []
    },
    {
      "cell_type": "markdown",
      "source": [
        "## Kabum"
      ],
      "metadata": {
        "id": "6bZkD34NRqHs"
      },
      "id": "6bZkD34NRqHs"
    },
    {
      "cell_type": "code",
      "source": [
        "df_kabum = scraper(\n",
        "    \"Kabum\",\n",
        "    \"https://www.kabum.com.br/busca/[query]\",\n",
        "    produto_a_pesquisar,\n",
        "    \"%20\",\n",
        "    \"productCard\",\n",
        "    \"nameCard\",\n",
        "    \"priceCard\"\n",
        ")"
      ],
      "metadata": {
        "id": "90dfHli1nQFB"
      },
      "id": "90dfHli1nQFB",
      "execution_count": 26,
      "outputs": []
    },
    {
      "cell_type": "markdown",
      "source": [
        "## Horizon Play"
      ],
      "metadata": {
        "id": "pqCfic8qE56f"
      },
      "id": "pqCfic8qE56f"
    },
    {
      "cell_type": "code",
      "source": [
        "df_horizon_play = scraper(\n",
        "    \"Horizon Play\",\n",
        "    \"https://www.horizonplay.com.br/busca?busca=[query]\",\n",
        "    produto_a_pesquisar,\n",
        "    \"+\",\n",
        "    \"spot-list_item\",\n",
        "    \"spot-title\",\n",
        "    \"product-price_value\"\n",
        ")"
      ],
      "metadata": {
        "id": "UPJo_mmvw89F"
      },
      "id": "UPJo_mmvw89F",
      "execution_count": 27,
      "outputs": []
    },
    {
      "cell_type": "markdown",
      "source": [
        "## XonGeek"
      ],
      "metadata": {
        "id": "LafgKa5kXsvG"
      },
      "id": "LafgKa5kXsvG"
    },
    {
      "cell_type": "code",
      "source": [
        "df_xongeek = scraper(\n",
        "    \"XonGeek\",\n",
        "    \"https://www.xongeek.com.br/buscar?q=[query]\",\n",
        "    produto_a_pesquisar,\n",
        "    \"+\",\n",
        "    \"listagem-item\",\n",
        "    \"nome-produto\",\n",
        "    \"preco-produto\",\n",
        "    suppress_errors=True\n",
        ")"
      ],
      "metadata": {
        "id": "f0gQZQcjXuJk"
      },
      "id": "f0gQZQcjXuJk",
      "execution_count": 28,
      "outputs": []
    },
    {
      "cell_type": "markdown",
      "source": [
        "## Bne Store"
      ],
      "metadata": {
        "id": "j0WrZ0Xz9M5K"
      },
      "id": "j0WrZ0Xz9M5K"
    },
    {
      "cell_type": "code",
      "source": [
        "df_bne_store = scraper(\n",
        "    \"Bne Store\",\n",
        "    \"https://www.bnestore.com.br/loja/busca.php?loja=1324137&palavra_busca=[query]&order=0&categoria=\",\n",
        "    produto_a_pesquisar.lower(),\n",
        "    \"+\",\n",
        "    \"product\",\n",
        "    \"product-name\",\n",
        "    \"current-price\",\n",
        "    suppress_errors=True\n",
        ")"
      ],
      "metadata": {
        "id": "BKu9j62X9Nkv"
      },
      "id": "BKu9j62X9Nkv",
      "execution_count": 29,
      "outputs": []
    },
    {
      "cell_type": "markdown",
      "source": [
        "## Concatenação"
      ],
      "metadata": {
        "id": "BKVPA4S9goCm"
      },
      "id": "BKVPA4S9goCm"
    },
    {
      "cell_type": "code",
      "source": [
        "df_dados = pd.concat([df_mercado_livre, df_kabum, df_horizon_play, df_xongeek, df_bne_store], ignore_index=True)\n",
        "df_dados = filter_dataframe(df_dados)"
      ],
      "metadata": {
        "id": "q4dSS5yGgq4u"
      },
      "id": "q4dSS5yGgq4u",
      "execution_count": 30,
      "outputs": []
    },
    {
      "cell_type": "markdown",
      "source": [
        "# Visualização de Grafo"
      ],
      "metadata": {
        "id": "qS5I-xXdggF2"
      },
      "id": "qS5I-xXdggF2"
    },
    {
      "cell_type": "code",
      "source": [
        "import matplotlib.pyplot as plt\n",
        "import seaborn as sns\n",
        "import numpy as np\n",
        "\n",
        "sns.set(style=\"whitegrid\")\n",
        "plt.figure(figsize=(10, 6))\n",
        "\n",
        "ax = sns.barplot(\n",
        "    x='Plataforma',\n",
        "    y='Preço',\n",
        "    data=df_dados,\n",
        "    estimator=np.mean,\n",
        "    errorbar=None,\n",
        "    palette='viridis',\n",
        "    hue='Plataforma',\n",
        "    legend=False\n",
        ")\n",
        "\n",
        "for p in ax.patches:\n",
        "    ax.text(\n",
        "        p.get_x() + p.get_width() / 2.,\n",
        "        p.get_height(),\n",
        "        f'R$ {p.get_height():.2f}'.replace('.', ','),\n",
        "        ha='center',\n",
        "        va='bottom',\n",
        "        fontsize=10,\n",
        "        color='black'\n",
        "    )\n",
        "\n",
        "plt.title(f\"Comparativo de Preços - {produto_a_pesquisar}\")\n",
        "plt.xlabel('Plataforma')\n",
        "plt.ylabel('Preço (R$)')\n",
        "plt.show()"
      ],
      "metadata": {
        "id": "h_7UXyd8LP8A",
        "colab": {
          "base_uri": "https://localhost:8080/",
          "height": 550
        },
        "outputId": "dfd70977-cc79-4be8-e3b5-a02597579ee3"
      },
      "id": "h_7UXyd8LP8A",
      "execution_count": 35,
      "outputs": [
        {
          "output_type": "display_data",
          "data": {
            "text/plain": [
              "<Figure size 1000x600 with 1 Axes>"
            ],
            "image/png": "[encoded data removed]"
          },
          "metadata": {}
        }
      ]
    }
  ],
  "metadata": {
    "kernelspec": {
      "display_name": "Python 3 (ipykernel)",
      "language": "python",
      "name": "python3"
    },
    "language_info": {
      "codemirror_mode": {
        "name": "ipython",
        "version": 3
      },
      "file_extension": ".py",
      "mimetype": "text/x-python",
      "name": "python",
      "nbconvert_exporter": "python",
      "pygments_lexer": "ipython3",
      "version": "3.12.7"
    },
    "colab": {
      "provenance": [],
      "collapsed_sections": [
        "VsoDNImtF2oC",
        "h0aPNvrjF7AK",
        "Yiv_GpoDgP1V",
        "t7c1t1wOgUI5",
        "E-90Yve8wb9t",
        "o0_oVHEBit1x",
        "sGSD-24ugmBq",
        "6bZkD34NRqHs",
        "pqCfic8qE56f",
        "LafgKa5kXsvG",
        "j0WrZ0Xz9M5K",
        "BKVPA4S9goCm"
      ],
      "include_colab_link": true
    }
  },
  "nbformat": 4,
  "nbformat_minor": 5
}